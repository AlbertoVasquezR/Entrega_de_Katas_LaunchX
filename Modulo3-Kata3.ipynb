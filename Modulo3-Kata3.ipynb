{
 "cells": [
  {
   "cell_type": "markdown",
   "metadata": {},
   "source": [
    "## Ejercicio - Escribir declaraciones if, else, y elif"
   ]
  },
  {
   "cell_type": "code",
   "execution_count": 4,
   "metadata": {},
   "outputs": [
    {
     "name": "stdout",
     "output_type": "stream",
     "text": [
      "Advertencia se aproxima un asteroide\n"
     ]
    }
   ],
   "source": [
    "asteroide = 49\n",
    "if asteroide >= 25: \n",
    "    print('Advertencia se aproxima un asteroide')\n",
    "else:\n",
    "    print('No paso nada, siga tranquilo')"
   ]
  },
  {
   "cell_type": "code",
   "execution_count": 6,
   "metadata": {},
   "outputs": [
    {
     "name": "stdout",
     "output_type": "stream",
     "text": [
      "Esta callendo un asteroide pero no lo vemos\n"
     ]
    }
   ],
   "source": [
    "Velasteroide = 19\n",
    "if Velasteroide >= 20:\n",
    "    print('Rayo de luz, cuidado vienen asteroides!!!!')\n",
    "elif Velasteroide == 19:\n",
    "    print('Esta callendo un asteroide pero no lo vemos')\n",
    "else:\n",
    "    print('No paso nada')"
   ]
  },
  {
   "cell_type": "markdown",
   "metadata": {},
   "source": [
    "## Ejercicio: Uso de operadores and y or"
   ]
  },
  {
   "cell_type": "code",
   "execution_count": 9,
   "metadata": {},
   "outputs": [
    {
     "name": "stdout",
     "output_type": "stream",
     "text": [
      "Se ve una luz en el cielo, el fin es inminente un asteroide viene.\n"
     ]
    }
   ],
   "source": [
    "Dasteroide = 25 #Dimensión\n",
    "Vasteroide = 25 #Velocidad\n",
    "if Dasteroide >= 25 and Vasteroide >= 20:\n",
    "    print('Se ve una luz en el cielo, el fin es inminente un asteroide viene.')\n",
    "elif Dasteroide < 25 or Vasteroide < 20:\n",
    "    print('No vemos el asteroide aunque como es pequeño tampoco causara tanto daño.')\n",
    "else:\n",
    "    print('No paso nada ʕ•́ᴥ•̀っ')"
   ]
  }
 ],
 "metadata": {
  "interpreter": {
   "hash": "384bc9fbcda2e01aeeb5860dc4cb5c09a0c87c277ab8d9d3f41f7447fa5901d3"
  },
  "kernelspec": {
   "display_name": "Python 3.10.2 64-bit",
   "language": "python",
   "name": "python3"
  },
  "language_info": {
   "codemirror_mode": {
    "name": "ipython",
    "version": 3
   },
   "file_extension": ".py",
   "mimetype": "text/x-python",
   "name": "python",
   "nbconvert_exporter": "python",
   "pygments_lexer": "ipython3",
   "version": "3.10.2"
  },
  "orig_nbformat": 4
 },
 "nbformat": 4,
 "nbformat_minor": 2
}
